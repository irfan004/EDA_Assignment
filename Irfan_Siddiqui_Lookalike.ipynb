{
  "nbformat": 4,
  "nbformat_minor": 0,
  "metadata": {
    "colab": {
      "provenance": []
    },
    "kernelspec": {
      "name": "python3",
      "display_name": "Python 3"
    },
    "language_info": {
      "name": "python"
    }
  },
  "cells": [
    {
      "cell_type": "code",
      "execution_count": null,
      "metadata": {
        "colab": {
          "base_uri": "https://localhost:8080/"
        },
        "id": "EkI-53w3owDR",
        "outputId": "ca1b46ea-60a8-4499-ab66-1e2a39a38aa7"
      },
      "outputs": [
        {
          "output_type": "stream",
          "name": "stdout",
          "text": [
            "Mounted at /content/drive\n"
          ]
        }
      ],
      "source": [
        "from google.colab import drive\n",
        "drive.mount('/content/drive')"
      ]
    },
    {
      "cell_type": "code",
      "source": [
        "import pandas as pd\n",
        "import numpy as np\n",
        "from sklearn.preprocessing import StandardScaler, OneHotEncoder\n",
        "from sklearn.compose import ColumnTransformer\n",
        "from sklearn.pipeline import Pipeline\n",
        "from sklearn.metrics.pairwise import cosine_similarity"
      ],
      "metadata": {
        "id": "hjsK72pMpjAl"
      },
      "execution_count": null,
      "outputs": []
    },
    {
      "cell_type": "code",
      "source": [
        "# Load datasets\n",
        "customers = pd.read_csv('/content/drive/MyDrive/Customers.csv')\n",
        "transactions = pd.read_csv('/content/drive/MyDrive/Transactions.csv')\n",
        "products = pd.read_csv('/content/drive/MyDrive/Products.csv')"
      ],
      "metadata": {
        "id": "PpNWy7x0qEHH"
      },
      "execution_count": null,
      "outputs": []
    },
    {
      "cell_type": "code",
      "source": [
        "# Feature Engineering\n",
        "def create_customer_profile(customers, transactions, products):\n",
        "    # Aggregate transaction data for each customer\n",
        "    customer_transactions = transactions.groupby('CustomerID').agg({\n",
        "        'TransactionID': 'count',\n",
        "        'TotalValue': 'sum',\n",
        "        'Quantity': 'sum'\n",
        "    }).reset_index()\n",
        "\n",
        "     # Merge customer information with transaction data\n",
        "    customer_profile = pd.merge(customers, customer_transactions, on='CustomerID')\n",
        "\n",
        "     # Product category preferences\n",
        "    product_category_counts = transactions.merge(products, on='ProductID') \\\n",
        "        .groupby('CustomerID')['Category'].value_counts().unstack(fill_value=0)\n",
        "\n",
        "        # Normalize category counts\n",
        "    product_category_prefs = product_category_counts.div(product_category_counts.sum(axis=1), axis=0)\n",
        "\n",
        "    # Merge product category preferences\n",
        "    customer_profile = customer_profile.merge(product_category_prefs, left_on='CustomerID', right_index=True)\n",
        "\n",
        "    return customer_profile"
      ],
      "metadata": {
        "id": "0hVDS_0GqJ0n"
      },
      "execution_count": null,
      "outputs": []
    },
    {
      "cell_type": "code",
      "source": [
        "def preprocess_features(customer_profile):\n",
        "    # Preprocessing for different feature types\n",
        "    preprocessor = ColumnTransformer(\n",
        "        transformers=[\n",
        "            ('num', StandardScaler(), ['TotalValue', 'Quantity', 'TransactionID']),\n",
        "            ('cat', OneHotEncoder(handle_unknown='ignore'), ['Region'])\n",
        "        ])\n",
        "\n",
        "    # Include product category columns\n",
        "    category_columns = [col for col in customer_profile.columns if col.startswith(('Books', 'Electronics', 'Home', 'Clothing'))]\n",
        "\n",
        "    # Combine numerical and categorical features for similarity calculation\n",
        "    features = customer_profile[['CustomerID', 'TotalValue', 'Quantity', 'TransactionID', 'Region'] + category_columns]\n",
        "\n",
        "    # Fit and transform features\n",
        "    processed_features = preprocessor.fit_transform(features.drop('CustomerID', axis=1))\n",
        "\n",
        "    return features['CustomerID'], processed_features"
      ],
      "metadata": {
        "id": "nu0hAfO3quoo"
      },
      "execution_count": null,
      "outputs": []
    },
    {
      "cell_type": "code",
      "source": [
        "# Lookalike Model\n",
        "def find_lookalikes(customer_profile, top_n=3):\n",
        "    customer_ids, processed_features = preprocess_features(customer_profile)\n",
        "\n",
        "    # Compute cosine similarity\n",
        "    similarity_matrix = cosine_similarity(processed_features)\n",
        "\n",
        "    # Store results\n",
        "    lookalikes = {}\n",
        "\n",
        "\n",
        "     # Find top N similar customers for first 20 customers\n",
        "    for i, cust_id in enumerate(customer_ids[:20]):\n",
        "        # Get similarity scores, excluding self\n",
        "        sim_scores = list(enumerate(similarity_matrix[i]))\n",
        "        sim_scores = [(idx, score) for idx, score in sim_scores if customer_ids[idx] != cust_id]\n",
        "\n",
        "        # Sort and get top N\n",
        "        sim_scores.sort(key=lambda x: x[1], reverse=True)\n",
        "        top_similar = sim_scores[:top_n]\n",
        "\n",
        "        lookalikes[cust_id] = [\n",
        "            (customer_ids[idx], round(score, 4)) for idx, score in top_similar\n",
        "        ]\n",
        "\n",
        "    return lookalikes"
      ],
      "metadata": {
        "id": "cdfZRehFqx9Z"
      },
      "execution_count": null,
      "outputs": []
    },
    {
      "cell_type": "code",
      "source": [
        "# Create customer profile and find lookalikes\n",
        "customer_profile = create_customer_profile(customers, transactions, products)\n",
        "lookalike_results = find_lookalikes(customer_profile)"
      ],
      "metadata": {
        "id": "bbSczhVCrAoE"
      },
      "execution_count": null,
      "outputs": []
    },
    {
      "cell_type": "code",
      "source": [
        "# Create Lookalike.csv\n",
        "lookalike_df = pd.DataFrame([\n",
        "    {'OriginalCustomer': orig,\n",
        "     'LookalikeCustomer1': looks[0][0], 'Similarity1': looks[0][1],\n",
        "     'LookalikeCustomer2': looks[1][0], 'Similarity2': looks[1][1],\n",
        "     'LookaalikeCustomer3': looks[2][0], 'Similarity3': looks[2][1]}\n",
        "    for orig, looks in lookalike_results.items()\n",
        "])\n"
      ],
      "metadata": {
        "id": "WoR-yw2RrHvU"
      },
      "execution_count": null,
      "outputs": []
    },
    {
      "cell_type": "code",
      "source": [
        "# Save Lookalike.csv\n",
        "lookalike_df.to_csv('/content/drive/MyDrive/Lookalike.csv', index=False)\n",
        "\n",
        "print(lookalike_df)"
      ],
      "metadata": {
        "colab": {
          "base_uri": "https://localhost:8080/"
        },
        "id": "mW8bkPp4sOIt",
        "outputId": "6f5022d7-fc49-4327-ec32-9b9c6cb53da5"
      },
      "execution_count": null,
      "outputs": [
        {
          "output_type": "stream",
          "name": "stdout",
          "text": [
            "   OriginalCustomer LookalikeCustomer1  Similarity1 LookalikeCustomer2  \\\n",
            "0             C0001              C0107       0.9894              C0137   \n",
            "1             C0002              C0142       0.9886              C0177   \n",
            "2             C0003              C0190       0.9172              C0133   \n",
            "3             C0004              C0113       0.9943              C0165   \n",
            "4             C0005              C0186       0.9975              C0159   \n",
            "5             C0006              C0168       0.9538              C0048   \n",
            "6             C0007              C0159       0.9883              C0005   \n",
            "7             C0008              C0109       0.9264              C0156   \n",
            "8             C0009              C0198       0.9874              C0060   \n",
            "9             C0010              C0166       0.9645              C0199   \n",
            "10            C0011              C0107       0.9854              C0048   \n",
            "11            C0012              C0102       0.9878              C0155   \n",
            "12            C0013              C0155       0.9913              C0188   \n",
            "13            C0014              C0060       0.9995              C0198   \n",
            "14            C0015              C0058       0.9956              C0020   \n",
            "15            C0016              C0183       0.9572              C0154   \n",
            "16            C0017              C0124       0.9860              C0075   \n",
            "17            C0018              C0046       0.8773              C0122   \n",
            "18            C0019              C0172       0.9931              C0127   \n",
            "19            C0020              C0058       0.9957              C0015   \n",
            "\n",
            "    Similarity2 LookaalikeCustomer3  Similarity3  \n",
            "0        0.9878               C0191       0.9719  \n",
            "1        0.9656               C0186       0.9510  \n",
            "2        0.9128               C0174       0.8796  \n",
            "3        0.9855               C0102       0.9787  \n",
            "4        0.9970               C0140       0.9871  \n",
            "5        0.9075               C0187       0.9034  \n",
            "6        0.9867               C0115       0.9828  \n",
            "7        0.8986               C0098       0.8944  \n",
            "8        0.9726               C0014       0.9716  \n",
            "9        0.9413               C0073       0.9321  \n",
            "10       0.9853               C0001       0.9663  \n",
            "11       0.9858               C0104       0.9800  \n",
            "12       0.9889               C0099       0.9885  \n",
            "13       0.9953               C0063       0.9925  \n",
            "14       0.9949               C0033       0.9939  \n",
            "15       0.9046               C0117       0.8758  \n",
            "16       0.9759               C0041       0.9332  \n",
            "17       0.8436               C0068       0.8218  \n",
            "18       0.9039               C0069       0.8872  \n",
            "19       0.9949               C0033       0.9940  \n"
          ]
        }
      ]
    },
    {
      "cell_type": "code",
      "source": [
        "def recommend_similar_customers(input_customer_id, customer_profile, lookalike_results):\n",
        "    \"\"\"\n",
        "    Recommends similar customers for a given customer ID\n",
        "\n",
        "    Parameters:\n",
        "    - input_customer_id: CustomerID to find lookalikes for\n",
        "    - customer_profile: Preprocessed customer profile dataframe\n",
        "    - lookalike_results: Dictionary of lookalike customers\n",
        "\n",
        "    Returns:\n",
        "    - Detailed recommendations with customer details\n",
        "    \"\"\"\n",
        "    # Check if customer exists in lookalike results\n",
        "    if input_customer_id not in lookalike_results:\n",
        "        print(f\"No recommendations found for CustomerID: {input_customer_id}\")\n",
        "        return None\n",
        "\n",
        "    # Get lookalike customers\n",
        "    lookalikes = lookalike_results[input_customer_id]\n",
        "\n",
        "    # Fetch full details of similar customers\n",
        "    recommendations = []\n",
        "    for customer, similarity in lookalikes:\n",
        "        customer_info = customer_profile[customer_profile['CustomerID'] == customer].iloc[0]\n",
        "        recommendations.append({\n",
        "            'Similar_CustomerID': customer,\n",
        "            'Region': customer_info['Region'],\n",
        "            'Similarity_Score': similarity,\n",
        "            'Total_Transactions': customer_info['TransactionID'],\n",
        "            'Total_Value': round(customer_info['TotalValue'], 2)\n",
        "        })\n",
        "\n",
        "    return recommendations\n",
        "\n",
        "# Interactive recommendation function\n",
        "def get_customer_recommendations(customer_id):\n",
        "    \"\"\"\n",
        "    Interactive function to get customer recommendations\n",
        "\n",
        "    Parameters:\n",
        "    - customer_id: CustomerID to find lookalikes for\n",
        "\n",
        "    Returns:\n",
        "    - Prints and returns detailed recommendations\n",
        "    \"\"\"\n",
        "    # Ensure the model is already run (lookalike_results exists)\n",
        "    recommendations = recommend_similar_customers(customer_id, customer_profile, lookalike_results)\n",
        "\n",
        "    if recommendations:\n",
        "        print(f\"\\nRecommendations for Customer {customer_id}:\")\n",
        "        for idx, rec in enumerate(recommendations, 1):\n",
        "            print(f\"\\nRecommendation {idx}:\")\n",
        "            for key, value in rec.items():\n",
        "                print(f\"{key}: {value}\")\n",
        "\n",
        "    return recommendations\n",
        "\n"
      ],
      "metadata": {
        "id": "9hozvn0utF6F"
      },
      "execution_count": null,
      "outputs": []
    },
    {
      "cell_type": "code",
      "source": [
        "print(\"\\nExample: Get recommendations for first customer\")\n",
        "get_customer_recommendations('C0006')\n",
        "\n",
        "# Optional: Interactive input\n",
        "def interactive_recommendations():\n",
        "    while True:\n",
        "        customer_id = input(\"\\nEnter CustomerID (or 'exit' to quit): \")\n",
        "        if customer_id.lower() == 'exit':\n",
        "            break\n",
        "        get_customer_recommendations(customer_id)"
      ],
      "metadata": {
        "colab": {
          "base_uri": "https://localhost:8080/",
          "height": 0
        },
        "id": "gu_s5sLBttr2",
        "outputId": "5c5d9beb-35dd-4cea-b519-feb0c3621dda"
      },
      "execution_count": 18,
      "outputs": [
        {
          "output_type": "stream",
          "name": "stdout",
          "text": [
            "\n",
            "Example: Get recommendations for first customer\n",
            "\n",
            "Recommendations for Customer C0006:\n",
            "\n",
            "Recommendation 1:\n",
            "Similar_CustomerID: C0168\n",
            "Region: South America\n",
            "Similarity_Score: 0.9538\n",
            "Total_Transactions: 4\n",
            "Total_Value: 5053.83\n",
            "\n",
            "Recommendation 2:\n",
            "Similar_CustomerID: C0048\n",
            "Region: South America\n",
            "Similarity_Score: 0.9075\n",
            "Total_Transactions: 5\n",
            "Total_Value: 3850.94\n",
            "\n",
            "Recommendation 3:\n",
            "Similar_CustomerID: C0187\n",
            "Region: South America\n",
            "Similarity_Score: 0.9034\n",
            "Total_Transactions: 5\n",
            "Total_Value: 4612.44\n"
          ]
        }
      ]
    }
  ]
}